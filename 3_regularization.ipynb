{
 "cells": [
  {
   "cell_type": "markdown",
   "metadata": {
    "colab_type": "text",
    "id": "kR-4eNdK6lYS"
   },
   "source": [
    "Deep Learning\n",
    "=============\n",
    "\n",
    "Assignment 3\n",
    "------------\n",
    "\n",
    "Previously in `2_fullyconnected.ipynb`, you trained a logistic regression and a neural network model.\n",
    "\n",
    "The goal of this assignment is to explore regularization techniques."
   ]
  },
  {
   "cell_type": "code",
   "execution_count": 1,
   "metadata": {
    "cellView": "both",
    "colab": {
     "autoexec": {
      "startup": false,
      "wait_interval": 0
     }
    },
    "colab_type": "code",
    "collapsed": true,
    "id": "JLpLa8Jt7Vu4"
   },
   "outputs": [],
   "source": [
    "# These are all the modules we'll be using later. Make sure you can import them\n",
    "# before proceeding further.\n",
    "from __future__ import print_function\n",
    "import numpy as np\n",
    "import tensorflow as tf\n",
    "from six.moves import cPickle as pickle"
   ]
  },
  {
   "cell_type": "markdown",
   "metadata": {
    "colab_type": "text",
    "id": "1HrCK6e17WzV"
   },
   "source": [
    "First reload the data we generated in _notmist.ipynb_."
   ]
  },
  {
   "cell_type": "code",
   "execution_count": 2,
   "metadata": {
    "cellView": "both",
    "colab": {
     "autoexec": {
      "startup": false,
      "wait_interval": 0
     },
     "output_extras": [
      {
       "item_id": 1
      }
     ]
    },
    "colab_type": "code",
    "collapsed": false,
    "executionInfo": {
     "elapsed": 11777,
     "status": "ok",
     "timestamp": 1449849322348,
     "user": {
      "color": "",
      "displayName": "",
      "isAnonymous": false,
      "isMe": true,
      "permissionId": "",
      "photoUrl": "",
      "sessionId": "0",
      "userId": ""
     },
     "user_tz": 480
    },
    "id": "y3-cj1bpmuxc",
    "outputId": "e03576f1-ebbe-4838-c388-f1777bcc9873"
   },
   "outputs": [
    {
     "name": "stdout",
     "output_type": "stream",
     "text": [
      "Training set (200000, 28, 28) (200000,)\n",
      "Validation set (10000, 28, 28) (10000,)\n",
      "Test set (10000, 28, 28) (10000,)\n"
     ]
    }
   ],
   "source": [
    "pickle_file = 'notMNIST.pickle'\n",
    "\n",
    "with open(pickle_file, 'rb') as f:\n",
    "  save = pickle.load(f)\n",
    "  train_dataset = save['train_dataset']\n",
    "  train_labels = save['train_labels']\n",
    "  valid_dataset = save['valid_dataset']\n",
    "  valid_labels = save['valid_labels']\n",
    "  test_dataset = save['test_dataset']\n",
    "  test_labels = save['test_labels']\n",
    "  del save  # hint to help gc free up memory\n",
    "  print('Training set', train_dataset.shape, train_labels.shape)\n",
    "  print('Validation set', valid_dataset.shape, valid_labels.shape)\n",
    "  print('Test set', test_dataset.shape, test_labels.shape)"
   ]
  },
  {
   "cell_type": "markdown",
   "metadata": {
    "colab_type": "text",
    "id": "L7aHrm6nGDMB"
   },
   "source": [
    "Reformat into a shape that's more adapted to the models we're going to train:\n",
    "- data as a flat matrix,\n",
    "- labels as float 1-hot encodings."
   ]
  },
  {
   "cell_type": "code",
   "execution_count": 3,
   "metadata": {
    "cellView": "both",
    "colab": {
     "autoexec": {
      "startup": false,
      "wait_interval": 0
     },
     "output_extras": [
      {
       "item_id": 1
      }
     ]
    },
    "colab_type": "code",
    "collapsed": false,
    "executionInfo": {
     "elapsed": 11728,
     "status": "ok",
     "timestamp": 1449849322356,
     "user": {
      "color": "",
      "displayName": "",
      "isAnonymous": false,
      "isMe": true,
      "permissionId": "",
      "photoUrl": "",
      "sessionId": "0",
      "userId": ""
     },
     "user_tz": 480
    },
    "id": "IRSyYiIIGIzS",
    "outputId": "3f8996ee-3574-4f44-c953-5c8a04636582"
   },
   "outputs": [
    {
     "name": "stdout",
     "output_type": "stream",
     "text": [
      "Training set (200000, 784) (200000, 10)\n",
      "Validation set (10000, 784) (10000, 10)\n",
      "Test set (10000, 784) (10000, 10)\n"
     ]
    }
   ],
   "source": [
    "image_size = 28\n",
    "num_labels = 10\n",
    "\n",
    "def reformat(dataset, labels):\n",
    "  dataset = dataset.reshape((-1, image_size * image_size)).astype(np.float32)\n",
    "  # Map 2 to [0.0, 1.0, 0.0 ...], 3 to [0.0, 0.0, 1.0 ...]\n",
    "  labels = (np.arange(num_labels) == labels[:,None]).astype(np.float32)\n",
    "  return dataset, labels\n",
    "train_dataset, train_labels = reformat(train_dataset, train_labels)\n",
    "valid_dataset, valid_labels = reformat(valid_dataset, valid_labels)\n",
    "test_dataset, test_labels = reformat(test_dataset, test_labels)\n",
    "print('Training set', train_dataset.shape, train_labels.shape)\n",
    "print('Validation set', valid_dataset.shape, valid_labels.shape)\n",
    "print('Test set', test_dataset.shape, test_labels.shape)"
   ]
  },
  {
   "cell_type": "code",
   "execution_count": 4,
   "metadata": {
    "cellView": "both",
    "colab": {
     "autoexec": {
      "startup": false,
      "wait_interval": 0
     }
    },
    "colab_type": "code",
    "collapsed": true,
    "id": "RajPLaL_ZW6w"
   },
   "outputs": [],
   "source": [
    "def accuracy(predictions, labels):\n",
    "  return (100.0 * np.sum(np.argmax(predictions, 1) == np.argmax(labels, 1))\n",
    "          / predictions.shape[0])"
   ]
  },
  {
   "cell_type": "markdown",
   "metadata": {
    "colab_type": "text",
    "id": "sgLbUAQ1CW-1"
   },
   "source": [
    "---\n",
    "Problem 1\n",
    "---------\n",
    "\n",
    "Introduce and tune L2 regularization for both logistic and neural network models. Remember that L2 amounts to adding a penalty on the norm of the weights to the loss. In TensorFlow, you can compute the L2 loss for a tensor `t` using `nn.l2_loss(t)`. The right amount of regularization should improve your validation / test accuracy.\n",
    "\n",
    "---"
   ]
  },
  {
   "cell_type": "markdown",
   "metadata": {},
   "source": [
    "## First do regularized logistic regression\n",
    "Note default is to apply regularization via the C (default=1.0). C is inversely proportional to the strength of the regularization. See Assignment 1"
   ]
  },
  {
   "cell_type": "markdown",
   "metadata": {},
   "source": [
    "# Now try regularized neural net (with a hidden layer). I will use the batch version."
   ]
  },
  {
   "cell_type": "code",
   "execution_count": 5,
   "metadata": {
    "collapsed": false
   },
   "outputs": [],
   "source": [
    "batch_size = 100\n",
    "hidden_nodes = 1024\n",
    "\n",
    "graph = tf.Graph()\n",
    "with graph.as_default():\n",
    "\n",
    "  # Input data. For the training data, we use a placeholder that will be fed\n",
    "  # at run time with a training minibatch.\n",
    "  tf_train_dataset = tf.placeholder(tf.float32,\n",
    "                                    shape=(batch_size, image_size * image_size))\n",
    "  tf_train_labels = tf.placeholder(tf.float32, shape=(batch_size, num_labels))\n",
    "  tf_valid_dataset = tf.constant(valid_dataset)\n",
    "  tf_test_dataset = tf.constant(test_dataset)\n",
    "  \n",
    "  # Variables.\n",
    "  # These are the parameters that we are going to be training. The weight\n",
    "  # matrix will be initialized using random values following a (truncated)\n",
    "  # normal distribution. The biases get initialized to zero.\n",
    "    \n",
    "  # first the hidden layer\n",
    "  weights_hidden = tf.Variable(\n",
    "    tf.truncated_normal([image_size * image_size, hidden_nodes]))\n",
    "  biases_hidden = tf.Variable(tf.zeros([hidden_nodes]))\n",
    "    \n",
    "  hidden = tf.nn.relu(tf.matmul(tf_train_dataset, weights_hidden) + biases_hidden)\n",
    "\n",
    "  # now the output layer\n",
    "  biases_out = tf.Variable(tf.zeros([num_labels]))\n",
    "  weights_out = tf.Variable(tf.truncated_normal([hidden_nodes, num_labels]))  \n",
    "    \n",
    "  # Training computation.\n",
    "  # We multiply the inputs with the weight matrix, and add biases. We compute\n",
    "  # the softmax and cross-entropy (it's one operation in TensorFlow, because\n",
    "  # it's very common, and it can be optimized). We take the average of this\n",
    "  # cross-entropy across all training examples: that's our loss.\n",
    "  logits = tf.matmul(hidden, weights_out) + biases_out\n",
    "  loss = tf.reduce_mean(\n",
    "    tf.nn.softmax_cross_entropy_with_logits(logits, tf_train_labels))\n",
    "\n",
    "  l2_reg = tf.nn.l2_loss(weights_out)\n",
    "  loss += l2_reg * 1e-2 # adding l2 regularization\n",
    "  \n",
    "  # Optimizer.\n",
    "  # We are going to find the minimum of this loss using gradient descent.\n",
    "  optimizer = tf.train.GradientDescentOptimizer(0.5).minimize(loss)\n",
    "  \n",
    "  # Predictions for the training, validation, and test data.\n",
    "  # These are not part of training, but merely here so that we can report\n",
    "  # accuracy figures as we train.\n",
    "  train_prediction = tf.nn.softmax(logits)\n",
    "    \n",
    "  valid_prediction = tf.nn.softmax(\n",
    "    tf.matmul(\n",
    "    tf.nn.relu(tf.matmul(tf_valid_dataset, weights_hidden) + biases_hidden),\n",
    "    weights_out) + biases_out)\n",
    "\n",
    "  test_prediction = tf.nn.softmax(\n",
    "    tf.matmul(\n",
    "    tf.nn.relu(tf.matmul(tf_test_dataset, weights_hidden) + biases_hidden),\n",
    "    weights_out) + biases_out)"
   ]
  },
  {
   "cell_type": "code",
   "execution_count": 6,
   "metadata": {
    "collapsed": false
   },
   "outputs": [
    {
     "name": "stdout",
     "output_type": "stream",
     "text": [
      "Initialized\n",
      "Minibatch loss at step 0: 369.933655\n",
      "Minibatch accuracy: 10.0%\n",
      "Validation accuracy: 29.9%\n",
      "Minibatch loss at step 500: 14.847972\n",
      "Minibatch accuracy: 74.0%\n",
      "Validation accuracy: 75.4%\n",
      "Minibatch loss at step 1000: 5.439051\n",
      "Minibatch accuracy: 79.0%\n",
      "Validation accuracy: 77.8%\n",
      "Minibatch loss at step 1500: 7.076602\n",
      "Minibatch accuracy: 83.0%\n",
      "Validation accuracy: 78.5%\n",
      "Minibatch loss at step 2000: 6.777390\n",
      "Minibatch accuracy: 77.0%\n",
      "Validation accuracy: 74.9%\n",
      "Minibatch loss at step 2500: 6.036966\n",
      "Minibatch accuracy: 78.0%\n",
      "Validation accuracy: 77.5%\n",
      "Minibatch loss at step 3000: 5.773693\n",
      "Minibatch accuracy: 81.0%\n",
      "Validation accuracy: 78.4%\n",
      "Minibatch loss at step 3500: 3.709137\n",
      "Minibatch accuracy: 75.0%\n",
      "Validation accuracy: 79.4%\n",
      "Minibatch loss at step 4000: 4.655849\n",
      "Minibatch accuracy: 77.0%\n",
      "Validation accuracy: 79.2%\n",
      "Minibatch loss at step 4500: 2.494158\n",
      "Minibatch accuracy: 83.0%\n",
      "Validation accuracy: 81.3%\n",
      "Test accuracy: 85.3%\n"
     ]
    }
   ],
   "source": [
    "num_steps = 5000\n",
    "\n",
    "with tf.Session(graph=graph) as session:\n",
    "  tf.initialize_all_variables().run()\n",
    "  print(\"Initialized\")\n",
    "  for step in range(num_steps):\n",
    "    # Pick an offset within the training data, which has been randomized.\n",
    "    # Note: we could use better randomization across epochs.\n",
    "    offset = (step * batch_size) % (train_labels.shape[0] - batch_size)\n",
    "    # Generate a minibatch.\n",
    "    batch_data = train_dataset[offset:(offset + batch_size), :]\n",
    "    batch_labels = train_labels[offset:(offset + batch_size), :]\n",
    "    # Prepare a dictionary telling the session where to feed the minibatch.\n",
    "    # The key of the dictionary is the placeholder node of the graph to be fed,\n",
    "    # and the value is the numpy array to feed to it.\n",
    "    feed_dict = {tf_train_dataset : batch_data, tf_train_labels : batch_labels}\n",
    "    _, l, predictions = session.run(\n",
    "      [optimizer, loss, train_prediction], feed_dict=feed_dict)\n",
    "    if (step % 500 == 0):\n",
    "      print(\"Minibatch loss at step %d: %f\" % (step, l))\n",
    "      print(\"Minibatch accuracy: %.1f%%\" % accuracy(predictions, batch_labels))\n",
    "      print(\"Validation accuracy: %.1f%%\" % accuracy(\n",
    "        valid_prediction.eval(), valid_labels))\n",
    "  print(\"Test accuracy: %.1f%%\" % accuracy(test_prediction.eval(), test_labels))"
   ]
  },
  {
   "cell_type": "markdown",
   "metadata": {
    "colab_type": "text",
    "id": "na8xX2yHZzNF"
   },
   "source": [
    "---\n",
    "Problem 2\n",
    "---------\n",
    "Let's demonstrate an extreme case of overfitting. Restrict your training data to just a few batches. What happens?\n",
    "\n",
    "---"
   ]
  },
  {
   "cell_type": "code",
   "execution_count": 7,
   "metadata": {
    "collapsed": false
   },
   "outputs": [
    {
     "name": "stdout",
     "output_type": "stream",
     "text": [
      "Initialized\n",
      "Minibatch loss at step 0: 437.710968\n",
      "Minibatch accuracy: 13.0%\n",
      "Validation accuracy: 33.1%\n",
      "Minibatch loss at step 500: 141.134537\n",
      "Minibatch accuracy: 47.0%\n",
      "Validation accuracy: 54.5%\n",
      "Minibatch loss at step 1000: 0.169617\n",
      "Minibatch accuracy: 99.0%\n",
      "Validation accuracy: 78.1%\n",
      "Minibatch loss at step 1500: 0.097245\n",
      "Minibatch accuracy: 99.0%\n",
      "Validation accuracy: 78.1%\n",
      "Minibatch loss at step 2000: 0.262138\n",
      "Minibatch accuracy: 100.0%\n",
      "Validation accuracy: 77.4%\n",
      "Minibatch loss at step 2500: 0.410438\n",
      "Minibatch accuracy: 100.0%\n",
      "Validation accuracy: 77.1%\n",
      "Minibatch loss at step 3000: 0.025007\n",
      "Minibatch accuracy: 100.0%\n",
      "Validation accuracy: 78.4%\n",
      "Test accuracy: 85.5%\n"
     ]
    }
   ],
   "source": [
    "num_steps = 3001\n",
    "batch_size = 100\n",
    "with tf.Session(graph=graph) as session:\n",
    "  tf.initialize_all_variables().run()\n",
    "  print(\"Initialized\")\n",
    "  for step in range(num_steps):\n",
    "    # Pick an offset within the training data, which has been randomized.\n",
    "    # Note: we could use better randomization across epochs.\n",
    "    offset = (step % 10 * batch_size) % (train_labels.shape[0] - batch_size)\n",
    "    # Generate a minibatch.\n",
    "    batch_data = train_dataset[offset:(offset + batch_size), :]\n",
    "    batch_labels = train_labels[offset:(offset + batch_size), :]\n",
    "    # Prepare a dictionary telling the session where to feed the minibatch.\n",
    "    # The key of the dictionary is the placeholder node of the graph to be fed,\n",
    "    # and the value is the numpy array to feed to it.\n",
    "    feed_dict = {tf_train_dataset : batch_data, tf_train_labels : batch_labels}\n",
    "    _, l, predictions = session.run(\n",
    "      [optimizer, loss, train_prediction], feed_dict=feed_dict)\n",
    "    if (step % 500 == 0):\n",
    "      print(\"Minibatch loss at step %d: %f\" % (step, l))\n",
    "      print(\"Minibatch accuracy: %.1f%%\" % accuracy(predictions, batch_labels))\n",
    "      print(\"Validation accuracy: %.1f%%\" % accuracy(\n",
    "        valid_prediction.eval(), valid_labels))\n",
    "  print(\"Test accuracy: %.1f%%\" % accuracy(test_prediction.eval(), test_labels))"
   ]
  },
  {
   "cell_type": "markdown",
   "metadata": {},
   "source": [
    "Note we are training on the same (almost) dataset on each batch due to the modulo 10 in the offset assignment.\n",
    "We get 100% on the minibatch, less so on the test/validation."
   ]
  },
  {
   "cell_type": "markdown",
   "metadata": {
    "colab_type": "text",
    "id": "ww3SCBUdlkRc"
   },
   "source": [
    "---\n",
    "Problem 3\n",
    "---------\n",
    "Introduce Dropout on the hidden layer of the neural network. Remember: Dropout should only be introduced during training, not evaluation, otherwise your evaluation results would be stochastic as well. TensorFlow provides `nn.dropout()` for that, but you have to make sure it's only inserted during training.\n",
    "\n",
    "What happens to our extreme overfitting case?\n",
    "\n",
    "---"
   ]
  },
  {
   "cell_type": "markdown",
   "metadata": {},
   "source": [
    "I will use the same as Q1, though without (and testing with) the l2 regularization on the loss.\n",
    "The baseline vs l2 regularization is 88% on the test set."
   ]
  },
  {
   "cell_type": "code",
   "execution_count": 8,
   "metadata": {
    "collapsed": true
   },
   "outputs": [],
   "source": [
    "batch_size = 250\n",
    "hidden_nodes = 2000 #1024\n",
    "\n",
    "graph = tf.Graph()\n",
    "with graph.as_default():\n",
    "\n",
    "  # Input data. For the training data, we use a placeholder that will be fed\n",
    "  # at run time with a training minibatch.\n",
    "  tf_train_dataset = tf.placeholder(tf.float32,\n",
    "                                    shape=(batch_size, image_size * image_size))\n",
    "  tf_train_labels = tf.placeholder(tf.float32, shape=(batch_size, num_labels))\n",
    "  tf_valid_dataset = tf.constant(valid_dataset)\n",
    "  tf_test_dataset = tf.constant(test_dataset)\n",
    "    \n",
    "  keep_prob = tf.placeholder(tf.float32) # keep prob for dropout\n",
    "  \n",
    "  # Variables.\n",
    "  # These are the parameters that we are going to be training. The weight\n",
    "  # matrix will be initialized using random values following a (truncated)\n",
    "  # normal distribution. The biases get initialized to zero.\n",
    "    \n",
    "  # first the hidden layer\n",
    "  weights_hidden = tf.Variable(\n",
    "    tf.truncated_normal([image_size * image_size, hidden_nodes]))\n",
    "  biases_hidden = tf.Variable(tf.zeros([hidden_nodes]))\n",
    "    \n",
    "  hidden = tf.nn.relu(tf.matmul(tf_train_dataset, weights_hidden) + biases_hidden)\n",
    "  hidden_dropout = tf.nn.dropout(hidden, keep_prob=keep_prob)\n",
    "\n",
    "  # now the output layer\n",
    "  biases_out = tf.Variable(tf.zeros([num_labels]))\n",
    "  weights_out = tf.Variable(tf.truncated_normal([hidden_nodes, num_labels]))  \n",
    "    \n",
    "  # Training computation.\n",
    "  # We multiply the inputs with the weight matrix, and add biases. We compute\n",
    "  # the softmax and cross-entropy (it's one operation in TensorFlow, because\n",
    "  # it's very common, and it can be optimized). We take the average of this\n",
    "  # cross-entropy across all training examples: that's our loss.\n",
    "  logits = tf.matmul(hidden_dropout, weights_out) + biases_out\n",
    "  loss = tf.reduce_mean(\n",
    "    tf.nn.softmax_cross_entropy_with_logits(logits, tf_train_labels))\n",
    "\n",
    "  #l2_reg = tf.nn.l2_loss(weights_out)\n",
    "  #loss += l2_reg * 1e-2 # adding l2 regularization\n",
    "  \n",
    "  # Optimizer.\n",
    "  # We are going to find the minimum of this loss using gradient descent.\n",
    "  optimizer = tf.train.GradientDescentOptimizer(0.5).minimize(loss)\n",
    "  \n",
    "  # Predictions for the training, validation, and test data.\n",
    "  # These are not part of training, but merely here so that we can report\n",
    "  # accuracy figures as we train.\n",
    "  train_prediction = tf.nn.softmax(logits)\n",
    "    \n",
    "  valid_prediction = tf.nn.softmax(\n",
    "    tf.matmul(\n",
    "    tf.nn.relu(tf.matmul(tf_valid_dataset, weights_hidden) + biases_hidden),\n",
    "    weights_out) + biases_out)\n",
    "\n",
    "  test_prediction = tf.nn.softmax(\n",
    "    tf.matmul(\n",
    "    tf.nn.relu(tf.matmul(tf_test_dataset, weights_hidden) + biases_hidden),\n",
    "    weights_out) + biases_out)"
   ]
  },
  {
   "cell_type": "code",
   "execution_count": 9,
   "metadata": {
    "collapsed": false
   },
   "outputs": [
    {
     "name": "stdout",
     "output_type": "stream",
     "text": [
      "Initialized\n",
      "Minibatch loss at step 0: 521.914795\n",
      "Minibatch accuracy: 8.4%\n",
      "Validation accuracy: 27.5%\n",
      "Minibatch loss at step 500: 8.905381\n",
      "Minibatch accuracy: 85.2%\n",
      "Validation accuracy: 83.6%\n",
      "Minibatch loss at step 1000: 18.074171\n",
      "Minibatch accuracy: 79.2%\n",
      "Validation accuracy: 83.0%\n",
      "Minibatch loss at step 1500: 10.975286\n",
      "Minibatch accuracy: 85.2%\n",
      "Validation accuracy: 84.3%\n",
      "Minibatch loss at step 2000: 8.468433\n",
      "Minibatch accuracy: 87.2%\n",
      "Validation accuracy: 84.8%\n",
      "Minibatch loss at step 2500: 8.493932\n",
      "Minibatch accuracy: 84.0%\n",
      "Validation accuracy: 84.2%\n",
      "Minibatch loss at step 3000: 4.293402\n",
      "Minibatch accuracy: 87.6%\n",
      "Validation accuracy: 85.0%\n",
      "Test accuracy: 91.3%\n"
     ]
    }
   ],
   "source": [
    "num_steps = 3001\n",
    "\n",
    "with tf.Session(graph=graph) as session:\n",
    "  tf.initialize_all_variables().run()\n",
    "  print(\"Initialized\")\n",
    "  for step in range(num_steps):\n",
    "    # Pick an offset within the training data, which has been randomized.\n",
    "    # Note: we could use better randomization across epochs.\n",
    "    offset = (step * batch_size) % (train_labels.shape[0] - batch_size)\n",
    "    # Generate a minibatch.\n",
    "    batch_data = train_dataset[offset:(offset + batch_size), :]\n",
    "    batch_labels = train_labels[offset:(offset + batch_size), :]\n",
    "    # Prepare a dictionary telling the session where to feed the minibatch.\n",
    "    # The key of the dictionary is the placeholder node of the graph to be fed,\n",
    "    # and the value is the numpy array to feed to it.\n",
    "    \n",
    "    feed_dict = {tf_train_dataset : batch_data,\n",
    "                 tf_train_labels : batch_labels,\n",
    "                 keep_prob : 0.9}\n",
    "    \n",
    "    _, l, predictions = session.run(\n",
    "      [optimizer, loss, train_prediction], feed_dict=feed_dict)\n",
    "    if (step % 500 == 0):\n",
    "      print(\"Minibatch loss at step %d: %f\" % (step, l))\n",
    "      print(\"Minibatch accuracy: %.1f%%\" % accuracy(predictions, batch_labels))\n",
    "      print(\"Validation accuracy: %.1f%%\" % accuracy(\n",
    "        valid_prediction.eval(), valid_labels))\n",
    "  print(\"Test accuracy: %.1f%%\" % accuracy(test_prediction.eval(), test_labels))"
   ]
  },
  {
   "cell_type": "markdown",
   "metadata": {
    "colab_type": "text",
    "id": "-b1hTz3VWZjw"
   },
   "source": [
    "---\n",
    "Problem 4\n",
    "---------\n",
    "\n",
    "Try to get the best performance you can using a multi-layer model! The best reported test accuracy using a deep network is [97.1%](http://yaroslavvb.blogspot.com/2011/09/notmnist-dataset.html?showComment=1391023266211#c8758720086795711595).\n",
    "\n",
    "One avenue you can explore is to add multiple layers.\n",
    "\n",
    "Another one is to use learning rate decay:\n",
    "\n",
    "    global_step = tf.Variable(0)  # count the number of steps taken.\n",
    "    learning_rate = tf.train.exponential_decay(0.5, global_step, ...)\n",
    "    optimizer = tf.train.GradientDescentOptimizer(learning_rate).minimize(loss, global_step=global_step)\n",
    " \n",
    " ---\n"
   ]
  },
  {
   "cell_type": "code",
   "execution_count": 10,
   "metadata": {
    "collapsed": false
   },
   "outputs": [],
   "source": [
    "batch_size = 250\n",
    "hidden_nodes = 3000 #1024\n",
    "\n",
    "graph = tf.Graph()\n",
    "with graph.as_default():\n",
    "\n",
    "  # Input data. For the training data, we use a placeholder that will be fed\n",
    "  # at run time with a training minibatch.\n",
    "  tf_train_dataset = tf.placeholder(tf.float32,\n",
    "                                    shape=(batch_size, image_size * image_size))\n",
    "  tf_train_labels = tf.placeholder(tf.float32, shape=(batch_size, num_labels))\n",
    "  tf_valid_dataset = tf.constant(valid_dataset)\n",
    "  tf_test_dataset = tf.constant(test_dataset)\n",
    "    \n",
    "  keep_prob = tf.placeholder(tf.float32) # keep prob for dropout\n",
    "  global_step = tf.Variable(0, trainable=False) # step for decaying learning rate\n",
    "  learning_rate = tf.train.exponential_decay(0.5, global_step, decay_steps=10000, decay_rate=0.65, staircase=True)\n",
    "  \n",
    "  # first the hidden layer\n",
    "  weights_hidden = tf.Variable(\n",
    "    tf.truncated_normal([image_size * image_size, hidden_nodes]))\n",
    "  biases_hidden = tf.Variable(tf.zeros([hidden_nodes]))\n",
    "    \n",
    "  hidden = tf.nn.relu(tf.matmul(tf_train_dataset, weights_hidden) + biases_hidden)\n",
    "  hidden_dropout = tf.nn.dropout(hidden, keep_prob=keep_prob)\n",
    "\n",
    "  # now the output layer\n",
    "  biases_out = tf.Variable(tf.zeros([num_labels]))\n",
    "  weights_out = tf.Variable(tf.truncated_normal([hidden_nodes, num_labels]))  \n",
    "    \n",
    "  logits = tf.matmul(hidden_dropout, weights_out) + biases_out\n",
    "  loss = tf.reduce_mean(\n",
    "    tf.nn.softmax_cross_entropy_with_logits(logits, tf_train_labels))\n",
    "\n",
    "  # Optimizer.\n",
    "  # We are going to find the minimum of this loss using gradient descent.\n",
    "  optimizer = tf.train.GradientDescentOptimizer(learning_rate).minimize(loss, global_step=global_step)\n",
    "  \n",
    "  train_prediction = tf.nn.softmax(logits)\n",
    "    \n",
    "  valid_prediction = tf.nn.softmax(\n",
    "    tf.matmul(\n",
    "    tf.nn.relu(tf.matmul(tf_valid_dataset, weights_hidden) + biases_hidden),\n",
    "    weights_out) + biases_out)\n",
    "\n",
    "  test_prediction = tf.nn.softmax(\n",
    "    tf.matmul(\n",
    "    tf.nn.relu(tf.matmul(tf_test_dataset, weights_hidden) + biases_hidden),\n",
    "    weights_out) + biases_out)"
   ]
  },
  {
   "cell_type": "code",
   "execution_count": 11,
   "metadata": {
    "collapsed": false
   },
   "outputs": [
    {
     "name": "stdout",
     "output_type": "stream",
     "text": [
      "Initialized\n",
      "Minibatch loss at step 0: 608.665955\n",
      "Minibatch accuracy: 10.4%\n",
      "Validation accuracy: 30.3%\n",
      "Minibatch loss at step 500: 13.633788\n",
      "Minibatch accuracy: 87.2%\n",
      "Validation accuracy: 84.7%\n",
      "Minibatch loss at step 1000: 32.844830\n",
      "Minibatch accuracy: 82.0%\n",
      "Validation accuracy: 84.3%\n",
      "Minibatch loss at step 1500: 20.190376\n",
      "Minibatch accuracy: 84.4%\n",
      "Validation accuracy: 85.4%\n",
      "Minibatch loss at step 2000: 13.451656\n",
      "Minibatch accuracy: 86.0%\n",
      "Validation accuracy: 85.9%\n",
      "Test accuracy: 92.1%\n"
     ]
    }
   ],
   "source": [
    "num_steps = 2001\n",
    "\n",
    "with tf.Session(graph=graph) as session:\n",
    "  tf.initialize_all_variables().run()\n",
    "  print(\"Initialized\")\n",
    "  for step in range(num_steps):\n",
    "    # Pick an offset within the training data, which has been randomized.\n",
    "    # Note: we could use better randomization across epochs.\n",
    "    offset = (step * batch_size) % (train_labels.shape[0] - batch_size)\n",
    "    # Generate a minibatch.\n",
    "    batch_data = train_dataset[offset:(offset + batch_size), :]\n",
    "    batch_labels = train_labels[offset:(offset + batch_size), :]\n",
    "    # Prepare a dictionary telling the session where to feed the minibatch.\n",
    "    # The key of the dictionary is the placeholder node of the graph to be fed,\n",
    "    # and the value is the numpy array to feed to it.\n",
    "    \n",
    "    feed_dict = {tf_train_dataset : batch_data,\n",
    "                 tf_train_labels : batch_labels,\n",
    "                 keep_prob : 0.85}\n",
    "    \n",
    "    _, l, predictions = session.run(\n",
    "      [optimizer, loss, train_prediction], feed_dict=feed_dict)\n",
    "    if (step % 500 == 0):\n",
    "      print(\"Minibatch loss at step %d: %f\" % (step, l))\n",
    "      print(\"Minibatch accuracy: %.1f%%\" % accuracy(predictions, batch_labels))\n",
    "      print(\"Validation accuracy: %.1f%%\" % accuracy(\n",
    "        valid_prediction.eval(), valid_labels))\n",
    "    \n",
    "  print(\"Test accuracy: %.1f%%\" % accuracy(test_prediction.eval(), test_labels))"
   ]
  },
  {
   "cell_type": "markdown",
   "metadata": {},
   "source": [
    "# Now try a deeper net with relu, dropout!"
   ]
  },
  {
   "cell_type": "code",
   "execution_count": 12,
   "metadata": {
    "collapsed": false
   },
   "outputs": [],
   "source": [
    "batch_size = 750\n",
    "hidden_nodes1 = 3000 #1024\n",
    "hidden_nodes2 = 500\n",
    "\n",
    "graph = tf.Graph()\n",
    "with graph.as_default():\n",
    "\n",
    "  # Input data. For the training data, we use a placeholder that will be fed\n",
    "  # at run time with a training minibatch.\n",
    "  tf_train_dataset = tf.placeholder(tf.float32,\n",
    "                                    shape=(batch_size, image_size * image_size))\n",
    "  tf_train_labels = tf.placeholder(tf.float32, shape=(batch_size, num_labels))\n",
    "  tf_valid_dataset = tf.constant(valid_dataset)\n",
    "  tf_test_dataset = tf.constant(test_dataset)\n",
    "    \n",
    "  keep_prob = tf.placeholder(tf.float32) # keep prob for dropout\n",
    "  global_step = tf.Variable(0, trainable=False) # step for decaying learning rate\n",
    "  learning_rate = tf.train.exponential_decay(0.5, global_step, decay_steps=1000, decay_rate=0.65, staircase=True)\n",
    "  \n",
    "  # the first hidden layer\n",
    "  weights_hidden1 = tf.Variable(\n",
    "    tf.truncated_normal([image_size * image_size, hidden_nodes1], stddev= 2.0/image_size/image_size))\n",
    "  biases_hidden1 = tf.Variable(tf.zeros([hidden_nodes1]))\n",
    "    \n",
    "  hidden1 = tf.nn.relu(tf.matmul(tf_train_dataset, weights_hidden1) + biases_hidden1) # try sigmoid here?\n",
    "  hidden_dropout1 = tf.nn.dropout(hidden1, keep_prob=keep_prob)\n",
    "    \n",
    "  # the second hidden layer\n",
    "  weights_hidden2 = tf.Variable(\n",
    "    tf.truncated_normal([hidden_nodes1, hidden_nodes2], stddev=np.sqrt(2.0/hidden_nodes1)))\n",
    "  biases_hidden2 = tf.Variable(tf.zeros([hidden_nodes2]))\n",
    "    \n",
    "  hidden2 = tf.nn.relu(tf.matmul(hidden_dropout1, weights_hidden2) + biases_hidden2)\n",
    "  hidden_dropout2 = tf.nn.dropout(hidden2, keep_prob=keep_prob)\n",
    "\n",
    "  # now the output layer\n",
    "  biases_out = tf.Variable(tf.zeros([num_labels]))\n",
    "  weights_out = tf.Variable(tf.truncated_normal([hidden_nodes2, num_labels], stddev=np.sqrt(2.0/hidden_nodes2)))  \n",
    "    \n",
    "  logits = tf.matmul(hidden_dropout2, weights_out) + biases_out\n",
    "  loss = tf.reduce_mean(\n",
    "    tf.nn.softmax_cross_entropy_with_logits(logits, tf_train_labels))\n",
    "\n",
    "  # Optimizer.\n",
    "  # We are going to find the minimum of this loss using gradient descent.\n",
    "  optimizer = tf.train.GradientDescentOptimizer(learning_rate).minimize(loss, global_step=global_step)\n",
    "  \n",
    "  train_prediction = tf.nn.softmax(logits)\n",
    "    \n",
    "  layer1_valid = tf.nn.relu(tf.matmul(tf_valid_dataset, weights_hidden1) + biases_hidden1)\n",
    "  layer2_valid = tf.nn.relu(tf.matmul(layer1_valid, weights_hidden2) + biases_hidden2)\n",
    "  valid_prediction = tf.nn.softmax(tf.matmul(layer2_valid, weights_out) + biases_out)\n",
    "\n",
    "  layer1_test = tf.nn.relu(tf.matmul(tf_test_dataset, weights_hidden1) + biases_hidden1)\n",
    "  layer2_test = tf.nn.relu(tf.matmul(layer1_test, weights_hidden2) + biases_hidden2)\n",
    "  test_prediction = tf.nn.softmax(tf.matmul(layer2_test, weights_out) + biases_out)"
   ]
  },
  {
   "cell_type": "code",
   "execution_count": 13,
   "metadata": {
    "collapsed": false,
    "scrolled": true
   },
   "outputs": [
    {
     "name": "stdout",
     "output_type": "stream",
     "text": [
      "Initialized\n",
      "Minibatch loss at step 0: 2.302102\n",
      "Minibatch accuracy: 9.1%\n",
      "Validation accuracy: 59.9%\n",
      "Minibatch loss at step 500: 0.384513\n",
      "Minibatch accuracy: 88.5%\n",
      "Validation accuracy: 87.8%\n",
      "Minibatch loss at step 1000: 0.312597\n",
      "Minibatch accuracy: 90.8%\n",
      "Validation accuracy: 89.4%\n",
      "Minibatch loss at step 1500: 0.262691\n",
      "Minibatch accuracy: 91.7%\n",
      "Validation accuracy: 90.3%\n",
      "Minibatch loss at step 2000: 0.237210\n",
      "Minibatch accuracy: 93.9%\n",
      "Validation accuracy: 91.1%\n",
      "Minibatch loss at step 2500: 0.196151\n",
      "Minibatch accuracy: 94.8%\n",
      "Validation accuracy: 91.1%\n",
      "Minibatch loss at step 3000: 0.171267\n",
      "Minibatch accuracy: 94.7%\n",
      "Validation accuracy: 91.2%\n",
      "Minibatch loss at step 3500: 0.194088\n",
      "Minibatch accuracy: 93.9%\n",
      "Validation accuracy: 91.2%\n",
      "Minibatch loss at step 4000: 0.153029\n",
      "Minibatch accuracy: 95.9%\n",
      "Validation accuracy: 91.4%\n",
      "Minibatch loss at step 4500: 0.136731\n",
      "Minibatch accuracy: 96.3%\n",
      "Validation accuracy: 91.7%\n",
      "Minibatch loss at step 5000: 0.150050\n",
      "Minibatch accuracy: 95.5%\n",
      "Validation accuracy: 91.6%\n",
      "Minibatch loss at step 5500: 0.116739\n",
      "Minibatch accuracy: 96.8%\n",
      "Validation accuracy: 91.8%\n",
      "Minibatch loss at step 6000: 0.153652\n",
      "Minibatch accuracy: 96.0%\n",
      "Validation accuracy: 91.7%\n",
      "Minibatch loss at step 6500: 0.138340\n",
      "Minibatch accuracy: 96.0%\n",
      "Validation accuracy: 91.8%\n",
      "Minibatch loss at step 7000: 0.128131\n",
      "Minibatch accuracy: 96.8%\n",
      "Validation accuracy: 91.8%\n",
      "Minibatch loss at step 7500: 0.130011\n",
      "Minibatch accuracy: 96.4%\n",
      "Validation accuracy: 91.8%\n",
      "Minibatch loss at step 8000: 0.156683\n",
      "Minibatch accuracy: 95.7%\n",
      "Validation accuracy: 91.8%\n",
      "Minibatch loss at step 8500: 0.111246\n",
      "Minibatch accuracy: 96.8%\n",
      "Validation accuracy: 91.8%\n",
      "Minibatch loss at step 9000: 0.129493\n",
      "Minibatch accuracy: 96.0%\n",
      "Validation accuracy: 91.8%\n",
      "Minibatch loss at step 9500: 0.122409\n",
      "Minibatch accuracy: 96.1%\n",
      "Validation accuracy: 91.9%\n",
      "Minibatch loss at step 10000: 0.131243\n",
      "Minibatch accuracy: 96.4%\n",
      "Validation accuracy: 91.8%\n",
      "Test accuracy: 96.6%\n"
     ]
    }
   ],
   "source": [
    "num_steps = 10001\n",
    "\n",
    "with tf.Session(graph=graph) as session:\n",
    "  tf.initialize_all_variables().run()\n",
    "  print(\"Initialized\")\n",
    "  for step in range(num_steps):\n",
    "    # Pick an offset within the training data, which has been randomized.\n",
    "    # Note: we could use better randomization across epochs.\n",
    "    offset = (step * batch_size) % (train_labels.shape[0] - batch_size)\n",
    "    # Generate a minibatch.\n",
    "    batch_data = train_dataset[offset:(offset + batch_size), :]\n",
    "    batch_labels = train_labels[offset:(offset + batch_size), :]\n",
    "    # Prepare a dictionary telling the session where to feed the minibatch.\n",
    "    # The key of the dictionary is the placeholder node of the graph to be fed,\n",
    "    # and the value is the numpy array to feed to it.\n",
    "    \n",
    "    feed_dict = {tf_train_dataset : batch_data,\n",
    "                 tf_train_labels : batch_labels,\n",
    "                 keep_prob : 0.95}\n",
    "    \n",
    "    _, l, predictions = session.run(\n",
    "      [optimizer, loss, train_prediction], feed_dict=feed_dict)\n",
    "    if (step % 500 == 0):\n",
    "      print(\"Minibatch loss at step %d: %f\" % (step, l))\n",
    "      print(\"Minibatch accuracy: %.1f%%\" % accuracy(predictions, batch_labels))\n",
    "      print(\"Validation accuracy: %.1f%%\" % accuracy(\n",
    "        valid_prediction.eval(), valid_labels))\n",
    "    \n",
    "  print(\"Test accuracy: %.1f%%\" % accuracy(test_prediction.eval(), test_labels))"
   ]
  },
  {
   "cell_type": "code",
   "execution_count": null,
   "metadata": {
    "collapsed": true
   },
   "outputs": [],
   "source": []
  },
  {
   "cell_type": "code",
   "execution_count": 16,
   "metadata": {
    "collapsed": true
   },
   "outputs": [],
   "source": [
    "# Now see if can do the above with keras!"
   ]
  },
  {
   "cell_type": "code",
   "execution_count": 18,
   "metadata": {
    "collapsed": false
   },
   "outputs": [],
   "source": [
    "import keras\n",
    "from keras.models import Sequential\n",
    "from keras.layers import Dense, Activation, Dropout\n",
    "from keras.optimizers import Adam, SGD"
   ]
  },
  {
   "cell_type": "code",
   "execution_count": 42,
   "metadata": {
    "collapsed": true
   },
   "outputs": [],
   "source": [
    "model = Sequential()\n",
    "model.add(Dense(hidden_nodes1, input_dim=image_size **2, activation='relu', init='he_normal', bias=True))\n",
    "model.add(Dropout(0.05))\n",
    "model.add(Dense(hidden_nodes2, activation='relu', init='he_normal', bias=True))\n",
    "model.add(Dropout(0.05))\n",
    "model.add(Dense(10, init='he_normal', activation='softmax', bias=True))\n",
    "\n",
    "sgd = SGD(lr=0.1, nesterov=True, decay=1e-8)\n",
    "model.compile(loss='categorical_crossentropy', optimizer=sgd, metrics=['accuracy'])"
   ]
  },
  {
   "cell_type": "code",
   "execution_count": 43,
   "metadata": {
    "collapsed": false
   },
   "outputs": [
    {
     "name": "stdout",
     "output_type": "stream",
     "text": [
      "Epoch 1/10\n",
      "200000/200000 [==============================] - 121s - loss: 0.5302 - acc: 0.8441   \n",
      "Epoch 2/10\n",
      "200000/200000 [==============================] - 116s - loss: 0.4038 - acc: 0.8800   \n",
      "Epoch 3/10\n",
      "200000/200000 [==============================] - 118s - loss: 0.3545 - acc: 0.8943   \n",
      "Epoch 4/10\n",
      "200000/200000 [==============================] - 119s - loss: 0.3198 - acc: 0.9047   \n",
      "Epoch 5/10\n",
      "200000/200000 [==============================] - 119s - loss: 0.2919 - acc: 0.9123   \n",
      "Epoch 6/10\n",
      "200000/200000 [==============================] - 119s - loss: 0.2692 - acc: 0.9194   \n",
      "Epoch 7/10\n",
      "200000/200000 [==============================] - 119s - loss: 0.2482 - acc: 0.9255   \n",
      "Epoch 8/10\n",
      "200000/200000 [==============================] - 119s - loss: 0.2287 - acc: 0.9316   \n",
      "Epoch 9/10\n",
      "200000/200000 [==============================] - 119s - loss: 0.2105 - acc: 0.9367   \n",
      "Epoch 10/10\n",
      "200000/200000 [==============================] - 120s - loss: 0.1946 - acc: 0.9420   \n"
     ]
    },
    {
     "data": {
      "text/plain": [
       "<keras.callbacks.History at 0x7f69880745d0>"
      ]
     },
     "execution_count": 43,
     "metadata": {},
     "output_type": "execute_result"
    }
   ],
   "source": [
    "model.fit(train_dataset, train_labels, nb_epoch=10, batch_size=250)"
   ]
  },
  {
   "cell_type": "code",
   "execution_count": 41,
   "metadata": {
    "collapsed": false
   },
   "outputs": [
    {
     "name": "stdout",
     "output_type": "stream",
     "text": [
      "200000/200000 [==============================] - 44s    \n",
      "[0.075133423507213595, 0.97886999845504763]\n",
      "10000/10000 [==============================] - 2s     \n",
      "[0.14990556463599206, 0.9592999935150146]\n"
     ]
    }
   ],
   "source": [
    "train_score = model.evaluate(train_dataset, train_labels, batch_size=20000)\n",
    "print(train_score)\n",
    "test_score = model.evaluate(test_dataset, test_labels, batch_size=1000)\n",
    "print(test_score)"
   ]
  },
  {
   "cell_type": "markdown",
   "metadata": {},
   "source": [
    "# About the same results"
   ]
  }
 ],
 "metadata": {
  "anaconda-cloud": {},
  "colab": {
   "default_view": {},
   "name": "3_regularization.ipynb",
   "provenance": [],
   "version": "0.3.2",
   "views": {}
  },
  "kernelspec": {
   "display_name": "Python [default]",
   "language": "python",
   "name": "python2"
  },
  "language_info": {
   "codemirror_mode": {
    "name": "ipython",
    "version": 2
   },
   "file_extension": ".py",
   "mimetype": "text/x-python",
   "name": "python",
   "nbconvert_exporter": "python",
   "pygments_lexer": "ipython2",
   "version": "2.7.12"
  }
 },
 "nbformat": 4,
 "nbformat_minor": 0
}
